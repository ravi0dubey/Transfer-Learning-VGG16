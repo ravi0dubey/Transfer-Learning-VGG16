{
  "nbformat": 4,
  "nbformat_minor": 0,
  "metadata": {
    "colab": {
      "provenance": [],
      "include_colab_link": true
    },
    "kernelspec": {
      "name": "python3",
      "display_name": "Python 3"
    },
    "language_info": {
      "name": "python"
    }
  },
  "cells": [
    {
      "cell_type": "markdown",
      "metadata": {
        "id": "view-in-github",
        "colab_type": "text"
      },
      "source": [
        "<a href=\"https://colab.research.google.com/github/ravi0dubey/Transfer-Learning-VGG16/blob/main/Data_Augmentation.ipynb\" target=\"_parent\"><img src=\"https://colab.research.google.com/assets/colab-badge.svg\" alt=\"Open In Colab\"/></a>"
      ]
    },
    {
      "cell_type": "markdown",
      "metadata": {
        "id": "PztzFpVbHtm3"
      },
      "source": [
        "# Data Augmentation"
      ]
    },
    {
      "cell_type": "markdown",
      "metadata": {
        "id": "K-aEnFQ8L-Ps"
      },
      "source": [
        "Limited data is a major obstacle in applying deep learning models like convolutional neural networks. Often, imbalanced classes can be an additional hindrance; while there may be sufficient data for some classes, equally important, but undersampled classes will suffer from poor class-specific accuracy."
      ]
    },
    {
      "cell_type": "markdown",
      "metadata": {
        "id": "CuazU6LnL_lm"
      },
      "source": [
        "# What is Data Augmentation?"
      ]
    },
    {
      "cell_type": "markdown",
      "metadata": {
        "id": "mR4mzfRgIEaX"
      },
      "source": [
        "Definition of “data augmentation” on Wikipedia is “Techniques are used to increase the amount of data by adding slightly modified copies of already existing data or newly created synthetic data from existing data.” So data augmentation involves creating new and representative data."
      ]
    },
    {
      "cell_type": "markdown",
      "metadata": {
        "id": "gTBdRYS4Q0VA"
      },
      "source": [
        "# Why is it important now?\n",
        "\n",
        "Machine learning applications especially in deep learning domain continue to diversify and increase rapidly. Data augmentation techniques may be a good tool against challenges which artificial intelligence world faces.\n",
        "\n",
        "Data augmentation is useful to improve performance and outcomes of machine learning models by forming new and different examples to train datasets. If dataset in a machine learning model is rich and sufficient, the model performs better and more accurate."
      ]
    },
    {
      "cell_type": "markdown",
      "metadata": {
        "id": "QnAbcalcQ-NQ"
      },
      "source": [
        "## Used in image classification and segmentation\n",
        "\n",
        "For data augmentation, making simple alterations on visual data is popular. In addition, generative adversarial networks (GANs) are used to create new synthetic data. Classic image processing activities for data augmentation are\n",
        "\n",
        "- padding\n",
        "- random rotating\n",
        "- re-scaling,\n",
        "- vertical and horizontal flipping\n",
        "- translation ( image is moved along X, Y direction)\n",
        "- cropping\n",
        "- zooming\n",
        "- darkening & brightening/color modification\n",
        "- grayscaling\n",
        "- changing contrast\n",
        "- adding noise\n",
        "- random erasing"
      ]
    },
    {
      "cell_type": "markdown",
      "metadata": {
        "id": "55b21bllRf37"
      },
      "source": [
        "![Source Medium](https://research.aimultiple.com/wp-content/uploads/2021/04/dataaugmention_image_alletranitons.png)"
      ]
    },
    {
      "cell_type": "markdown",
      "metadata": {
        "id": "j7B3wqQFSe8I"
      },
      "source": [
        "## Famous Research Papers\n",
        "\n",
        "\n",
        "### Random Erasing Data Augmentation\n",
        "\n",
        "[Random Erasing Paper Link](https://arxiv.org/pdf/1708.04896.pdf)\n",
        "\n",
        "### Improved Regularization of Convolutional Neural Networks with Cutout\n",
        "\n",
        "[Cutout Paper](https://arxiv.org/pdf/1708.04552.pdf)\n",
        "\n",
        "### Data Augmentation using Random Image Cropping and Patching for Deep CNNs\n",
        "\n",
        "[RICAP Paper](https://arxiv.org/pdf/1811.09030.pdf)\n",
        "\n"
      ]
    },
    {
      "cell_type": "markdown",
      "metadata": {
        "id": "F_rEUGT-R2lp"
      },
      "source": [
        "## What are the benefits of data augmentation?\n",
        "\n",
        "Benefits of data augmentation include:\n",
        "\n",
        "1. Improving model prediction accuracy\n",
        "   - adding more training data into the models\n",
        "   - preventing data scarcity for better models\n",
        "   - reducing data overfitting\n",
        "   - increasing generalization ability of the models\n",
        "   - helping resolve class imbalance issues in classification\n",
        "2. Reducing costs of collecting and labeling data"
      ]
    },
    {
      "cell_type": "markdown",
      "metadata": {
        "id": "J0ZyO11_R2Rn"
      },
      "source": [
        "## What are the challenges of data augmentation?\n",
        "\n",
        "1. Companies need to build evaluation systems for quality of augmented datasets. As use of data augmentation methods increases, assessment of quality of their output will be required.\n",
        "2. Data augmentation domain needs to develop new research and studies to create new/synthetic data with advanced applications. For example, generation of high-resolution images by using GANs is challenging\n",
        "3. If real dataset contains biases, data augmented from it will contain biases, too. So, identification of optimal data augmentation strategy is important."
      ]
    },
    {
      "cell_type": "code",
      "source": [],
      "metadata": {
        "id": "2c4zRBvsLuvV"
      },
      "execution_count": null,
      "outputs": []
    },
    {
      "cell_type": "markdown",
      "source": [
        "## Data augmentation Framework\n",
        "\n",
        "1. IMGAUG.\n",
        "2. AUGMENTOR\n",
        "3. ALBUMENTATIONS."
      ],
      "metadata": {
        "id": "VlaJTlD0LvJx"
      }
    },
    {
      "cell_type": "markdown",
      "source": [
        "Documentation of imgaug https://github.com/aleju/imgaug\n"
      ],
      "metadata": {
        "id": "hrTHLeW4MPe8"
      }
    },
    {
      "cell_type": "code",
      "source": [
        "\n",
        "from google.colab import drive\n",
        "drive.mount('/content/drive')"
      ],
      "metadata": {
        "colab": {
          "base_uri": "https://localhost:8080/"
        },
        "id": "jYer5Hz1Rnii",
        "outputId": "1992bf43-89d3-43da-8e69-cd9dbbe21831"
      },
      "execution_count": 1,
      "outputs": [
        {
          "output_type": "stream",
          "name": "stdout",
          "text": [
            "Mounted at /content/drive\n"
          ]
        }
      ]
    },
    {
      "cell_type": "code",
      "source": [
        "\n",
        "data_path = '/content/drive/MyDrive/VGGNet/Flowers/train/daisy'\n"
      ],
      "metadata": {
        "id": "Bq-5t1EXRWU_"
      },
      "execution_count": 14,
      "outputs": []
    },
    {
      "cell_type": "code",
      "source": [
        "!pip install Augmentor"
      ],
      "metadata": {
        "colab": {
          "base_uri": "https://localhost:8080/"
        },
        "id": "UZb4X93tUXRO",
        "outputId": "3f93558c-3fa9-4fad-b015-359fbaeca37d"
      },
      "execution_count": 5,
      "outputs": [
        {
          "output_type": "stream",
          "name": "stdout",
          "text": [
            "Collecting Augmentor\n",
            "  Downloading Augmentor-0.2.12-py2.py3-none-any.whl (38 kB)\n",
            "Requirement already satisfied: Pillow>=5.2.0 in /usr/local/lib/python3.10/dist-packages (from Augmentor) (9.4.0)\n",
            "Requirement already satisfied: tqdm>=4.9.0 in /usr/local/lib/python3.10/dist-packages (from Augmentor) (4.65.0)\n",
            "Requirement already satisfied: numpy>=1.11.0 in /usr/local/lib/python3.10/dist-packages (from Augmentor) (1.23.5)\n",
            "Installing collected packages: Augmentor\n",
            "Successfully installed Augmentor-0.2.12\n"
          ]
        }
      ]
    },
    {
      "cell_type": "code",
      "source": [
        " import Augmentor"
      ],
      "metadata": {
        "id": "oxRog-9fUbN8"
      },
      "execution_count": 6,
      "outputs": []
    },
    {
      "cell_type": "code",
      "source": [
        "p = Augmentor.Pipeline(data_path)"
      ],
      "metadata": {
        "colab": {
          "base_uri": "https://localhost:8080/"
        },
        "id": "l5R7tHO9Ud6r",
        "outputId": "c492aa49-e1b6-47b6-8354-06163226f0e8"
      },
      "execution_count": 15,
      "outputs": [
        {
          "output_type": "stream",
          "name": "stdout",
          "text": [
            "Initialised with 120 image(s) found.\n",
            "Output directory set to /content/drive/MyDrive/VGGNet/Flowers/train/daisy/output."
          ]
        }
      ]
    },
    {
      "cell_type": "code",
      "source": [
        "p.flip_left_right(probability=0.3)\n",
        "p.rotate180(probability=0.8)"
      ],
      "metadata": {
        "id": "86Vd6-03VgW6"
      },
      "execution_count": 17,
      "outputs": []
    },
    {
      "cell_type": "code",
      "source": [
        "p.sample(1000)"
      ],
      "metadata": {
        "colab": {
          "base_uri": "https://localhost:8080/"
        },
        "id": "hTW1xRDUWAe_",
        "outputId": "c50d47e2-37fd-434b-9246-bd78d677ada0"
      },
      "execution_count": 18,
      "outputs": [
        {
          "output_type": "stream",
          "name": "stderr",
          "text": [
            "Processing <PIL.Image.Image image mode=RGB size=240x147 at 0x7D988C2772E0>: 100%|██████████| 1000/1000 [00:15<00:00, 65.71 Samples/s]\n"
          ]
        }
      ]
    }
  ]
}