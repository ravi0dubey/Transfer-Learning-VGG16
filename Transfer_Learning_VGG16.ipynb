{
  "nbformat": 4,
  "nbformat_minor": 0,
  "metadata": {
    "colab": {
      "provenance": []
    },
    "kernelspec": {
      "name": "python3",
      "display_name": "Python 3"
    },
    "language_info": {
      "name": "python"
    },
    "accelerator": "GPU",
    "gpuClass": "standard"
  },
  "cells": [
    {
      "cell_type": "code",
      "execution_count": 2,
      "metadata": {
        "colab": {
          "base_uri": "https://localhost:8080/"
        },
        "id": "PIhz5QEJWoc6",
        "outputId": "4006437f-3922-4a81-c05f-5782c7963c93"
      },
      "outputs": [
        {
          "output_type": "stream",
          "name": "stdout",
          "text": [
            "Sun Feb  5 23:08:14 2023       \n",
            "+-----------------------------------------------------------------------------+\n",
            "| NVIDIA-SMI 510.47.03    Driver Version: 510.47.03    CUDA Version: 11.6     |\n",
            "|-------------------------------+----------------------+----------------------+\n",
            "| GPU  Name        Persistence-M| Bus-Id        Disp.A | Volatile Uncorr. ECC |\n",
            "| Fan  Temp  Perf  Pwr:Usage/Cap|         Memory-Usage | GPU-Util  Compute M. |\n",
            "|                               |                      |               MIG M. |\n",
            "|===============================+======================+======================|\n",
            "|   0  Tesla T4            Off  | 00000000:00:04.0 Off |                    0 |\n",
            "| N/A   45C    P0    26W /  70W |      0MiB / 15360MiB |      0%      Default |\n",
            "|                               |                      |                  N/A |\n",
            "+-------------------------------+----------------------+----------------------+\n",
            "                                                                               \n",
            "+-----------------------------------------------------------------------------+\n",
            "| Processes:                                                                  |\n",
            "|  GPU   GI   CI        PID   Type   Process name                  GPU Memory |\n",
            "|        ID   ID                                                   Usage      |\n",
            "|=============================================================================|\n",
            "|  No running processes found                                                 |\n",
            "+-----------------------------------------------------------------------------+\n"
          ]
        }
      ],
      "source": [
        "!nvidia-smi"
      ]
    },
    {
      "cell_type": "code",
      "source": [
        "import tensorflow as tf\n",
        "print(tf.__version__)"
      ],
      "metadata": {
        "colab": {
          "base_uri": "https://localhost:8080/"
        },
        "id": "_1nIC9-tYaGo",
        "outputId": "6144290e-77b4-4d5b-b12c-825d8f9698f7"
      },
      "execution_count": 3,
      "outputs": [
        {
          "output_type": "stream",
          "name": "stdout",
          "text": [
            "2.9.2\n"
          ]
        }
      ]
    },
    {
      "cell_type": "code",
      "source": [
        "# import the libraries as shown below\n",
        "\n",
        "from tensorflow.keras.layers import Input, Lambda, Dense, Flatten\n",
        "from tensorflow.keras.models import Model\n",
        "from tensorflow.keras.applications.vgg16 import VGG16\n",
        "from tensorflow.keras.applications.vgg19 import VGG19\n",
        "from tensorflow.keras.preprocessing import image\n",
        "from tensorflow.keras.preprocessing.image import ImageDataGenerator,load_img\n",
        "from tensorflow.keras.models import Sequential\n",
        "import numpy as np\n",
        "from glob import glob"
      ],
      "metadata": {
        "id": "mLOqiaSqYeca"
      },
      "execution_count": 4,
      "outputs": []
    },
    {
      "cell_type": "code",
      "source": [
        "from google.colab import drive\n",
        "drive.mount('/content/drive')"
      ],
      "metadata": {
        "colab": {
          "base_uri": "https://localhost:8080/"
        },
        "id": "qyS71xR_dC_B",
        "outputId": "dd347551-e46a-48c4-fecf-8053d4974eff"
      },
      "execution_count": 5,
      "outputs": [
        {
          "output_type": "stream",
          "name": "stdout",
          "text": [
            "Mounted at /content/drive\n"
          ]
        }
      ]
    },
    {
      "cell_type": "code",
      "source": [
        "# Change rootpath to VGGNet\n",
        "\n",
        "ROOT_PATH = '/content/drive/MyDrive/VGGNet'"
      ],
      "metadata": {
        "id": "UMGq4jAFdxw3"
      },
      "execution_count": 6,
      "outputs": []
    },
    {
      "cell_type": "code",
      "source": [
        "import os\n",
        "os.chdir(ROOT_PATH)\n",
        "os.getcwd()"
      ],
      "metadata": {
        "colab": {
          "base_uri": "https://localhost:8080/",
          "height": 35
        },
        "id": "2hiln53Bd6FG",
        "outputId": "1f8c4164-5a51-46f2-8abf-61baeb61ddef"
      },
      "execution_count": 7,
      "outputs": [
        {
          "output_type": "execute_result",
          "data": {
            "text/plain": [
              "'/content/drive/MyDrive/VGGNet'"
            ],
            "application/vnd.google.colaboratory.intrinsic+json": {
              "type": "string"
            }
          },
          "metadata": {},
          "execution_count": 7
        }
      ]
    },
    {
      "cell_type": "code",
      "source": [
        "# re-size all the images to 224 , 224 size\n",
        "IMAGE_SIZE = [224, 224]\n",
        "\n",
        "train_path = 'Flowers/train'\n",
        "valid_path = 'Flowers/validation'"
      ],
      "metadata": {
        "id": "VfbH7Sbsd9_D"
      },
      "execution_count": 8,
      "outputs": []
    },
    {
      "cell_type": "code",
      "source": [
        "# Import the VGG16 library as shown below and add preprocessing layer to the front of VGG, Here we will be using imagenet weights\n",
        "# With include_top = False,  it will drop ANN/FC layers and only copy Convulational layer\n",
        "# Also we will be adding 3 to the input_shape as it is RGB channel so input size would be 224*224*3\n",
        "\n",
        "vgg16 = VGG16(input_shape=IMAGE_SIZE + [3], weights='imagenet', include_top=False)"
      ],
      "metadata": {
        "id": "NwDjd_7weB0S",
        "colab": {
          "base_uri": "https://localhost:8080/"
        },
        "outputId": "2304bbd1-c7db-492b-a2f9-3434fb103e0f"
      },
      "execution_count": 9,
      "outputs": [
        {
          "output_type": "stream",
          "name": "stdout",
          "text": [
            "Downloading data from https://storage.googleapis.com/tensorflow/keras-applications/vgg16/vgg16_weights_tf_dim_ordering_tf_kernels_notop.h5\n",
            "58889256/58889256 [==============================] - 3s 0us/step\n"
          ]
        }
      ]
    },
    {
      "cell_type": "code",
      "source": [
        "# To check the  what all layers got copied from the Imagenet\n",
        "for layer in vgg16.layers:\n",
        "    print(layer)"
      ],
      "metadata": {
        "colab": {
          "base_uri": "https://localhost:8080/"
        },
        "id": "l1fRA64JehA_",
        "outputId": "9f04e4db-653e-4536-8139-efdd3c8ef25e"
      },
      "execution_count": 10,
      "outputs": [
        {
          "output_type": "stream",
          "name": "stdout",
          "text": [
            "<keras.engine.input_layer.InputLayer object at 0x7f069e8dcbb0>\n",
            "<keras.layers.convolutional.conv2d.Conv2D object at 0x7f069e0280a0>\n",
            "<keras.layers.convolutional.conv2d.Conv2D object at 0x7f069e0283d0>\n",
            "<keras.layers.pooling.max_pooling2d.MaxPooling2D object at 0x7f069e0281f0>\n",
            "<keras.layers.convolutional.conv2d.Conv2D object at 0x7f069dfc4c70>\n",
            "<keras.layers.convolutional.conv2d.Conv2D object at 0x7f069038a6d0>\n",
            "<keras.layers.pooling.max_pooling2d.MaxPooling2D object at 0x7f069e028cd0>\n",
            "<keras.layers.convolutional.conv2d.Conv2D object at 0x7f06903949d0>\n",
            "<keras.layers.convolutional.conv2d.Conv2D object at 0x7f069dfc4a60>\n",
            "<keras.layers.convolutional.conv2d.Conv2D object at 0x7f069039a430>\n",
            "<keras.layers.pooling.max_pooling2d.MaxPooling2D object at 0x7f069038a970>\n",
            "<keras.layers.convolutional.conv2d.Conv2D object at 0x7f06903a7700>\n",
            "<keras.layers.convolutional.conv2d.Conv2D object at 0x7f06903a7910>\n",
            "<keras.layers.convolutional.conv2d.Conv2D object at 0x7f06903a79a0>\n",
            "<keras.layers.pooling.max_pooling2d.MaxPooling2D object at 0x7f069039aac0>\n",
            "<keras.layers.convolutional.conv2d.Conv2D object at 0x7f069033a9a0>\n",
            "<keras.layers.convolutional.conv2d.Conv2D object at 0x7f069033ad00>\n",
            "<keras.layers.convolutional.conv2d.Conv2D object at 0x7f069033aa30>\n",
            "<keras.layers.pooling.max_pooling2d.MaxPooling2D object at 0x7f0690346790>\n"
          ]
        }
      ]
    },
    {
      "cell_type": "code",
      "source": [
        "# We are making Convulational layer to non-trainable\n",
        "for layer in vgg16.layers:\n",
        "    layer.trainable = False"
      ],
      "metadata": {
        "id": "FMn0v_ZmekwQ"
      },
      "execution_count": 11,
      "outputs": []
    },
    {
      "cell_type": "code",
      "source": [
        "vgg16"
      ],
      "metadata": {
        "colab": {
          "base_uri": "https://localhost:8080/"
        },
        "id": "vnTpMlUAspNk",
        "outputId": "ce7fb854-a72f-4284-ecf1-25dc8e05d5d3"
      },
      "execution_count": 12,
      "outputs": [
        {
          "output_type": "execute_result",
          "data": {
            "text/plain": [
              "<keras.engine.functional.Functional at 0x7f0690346eb0>"
            ]
          },
          "metadata": {},
          "execution_count": 12
        }
      ]
    },
    {
      "cell_type": "code",
      "source": [
        "# To check what all layers are trainables\n",
        "\n",
        "for layer in vgg16.layers:\n",
        "  print(layer.name,layer.trainable)"
      ],
      "metadata": {
        "colab": {
          "base_uri": "https://localhost:8080/"
        },
        "id": "NS-YlOPIsvRE",
        "outputId": "6ca3c22e-5646-4648-8153-634fac5079cd"
      },
      "execution_count": 13,
      "outputs": [
        {
          "output_type": "stream",
          "name": "stdout",
          "text": [
            "input_1 False\n",
            "block1_conv1 False\n",
            "block1_conv2 False\n",
            "block1_pool False\n",
            "block2_conv1 False\n",
            "block2_conv2 False\n",
            "block2_pool False\n",
            "block3_conv1 False\n",
            "block3_conv2 False\n",
            "block3_conv3 False\n",
            "block3_pool False\n",
            "block4_conv1 False\n",
            "block4_conv2 False\n",
            "block4_conv3 False\n",
            "block4_pool False\n",
            "block5_conv1 False\n",
            "block5_conv2 False\n",
            "block5_conv3 False\n",
            "block5_pool False\n"
          ]
        }
      ]
    },
    {
      "cell_type": "code",
      "source": [
        "# Printing summary of VGG16\n",
        "vgg16.summary()"
      ],
      "metadata": {
        "colab": {
          "base_uri": "https://localhost:8080/"
        },
        "id": "JEVZRSby1foS",
        "outputId": "1c64c7e0-ee60-424d-ad79-bbc1d766c3b3"
      },
      "execution_count": 14,
      "outputs": [
        {
          "output_type": "stream",
          "name": "stdout",
          "text": [
            "Model: \"vgg16\"\n",
            "_________________________________________________________________\n",
            " Layer (type)                Output Shape              Param #   \n",
            "=================================================================\n",
            " input_1 (InputLayer)        [(None, 224, 224, 3)]     0         \n",
            "                                                                 \n",
            " block1_conv1 (Conv2D)       (None, 224, 224, 64)      1792      \n",
            "                                                                 \n",
            " block1_conv2 (Conv2D)       (None, 224, 224, 64)      36928     \n",
            "                                                                 \n",
            " block1_pool (MaxPooling2D)  (None, 112, 112, 64)      0         \n",
            "                                                                 \n",
            " block2_conv1 (Conv2D)       (None, 112, 112, 128)     73856     \n",
            "                                                                 \n",
            " block2_conv2 (Conv2D)       (None, 112, 112, 128)     147584    \n",
            "                                                                 \n",
            " block2_pool (MaxPooling2D)  (None, 56, 56, 128)       0         \n",
            "                                                                 \n",
            " block3_conv1 (Conv2D)       (None, 56, 56, 256)       295168    \n",
            "                                                                 \n",
            " block3_conv2 (Conv2D)       (None, 56, 56, 256)       590080    \n",
            "                                                                 \n",
            " block3_conv3 (Conv2D)       (None, 56, 56, 256)       590080    \n",
            "                                                                 \n",
            " block3_pool (MaxPooling2D)  (None, 28, 28, 256)       0         \n",
            "                                                                 \n",
            " block4_conv1 (Conv2D)       (None, 28, 28, 512)       1180160   \n",
            "                                                                 \n",
            " block4_conv2 (Conv2D)       (None, 28, 28, 512)       2359808   \n",
            "                                                                 \n",
            " block4_conv3 (Conv2D)       (None, 28, 28, 512)       2359808   \n",
            "                                                                 \n",
            " block4_pool (MaxPooling2D)  (None, 14, 14, 512)       0         \n",
            "                                                                 \n",
            " block5_conv1 (Conv2D)       (None, 14, 14, 512)       2359808   \n",
            "                                                                 \n",
            " block5_conv2 (Conv2D)       (None, 14, 14, 512)       2359808   \n",
            "                                                                 \n",
            " block5_conv3 (Conv2D)       (None, 14, 14, 512)       2359808   \n",
            "                                                                 \n",
            " block5_pool (MaxPooling2D)  (None, 7, 7, 512)         0         \n",
            "                                                                 \n",
            "=================================================================\n",
            "Total params: 14,714,688\n",
            "Trainable params: 0\n",
            "Non-trainable params: 14,714,688\n",
            "_________________________________________________________________\n"
          ]
        }
      ]
    },
    {
      "cell_type": "code",
      "source": [
        "# useful for getting number of output classes\n",
        "folders = glob('Flowers/train/*')"
      ],
      "metadata": {
        "id": "4xNTxWPK2bNx"
      },
      "execution_count": 26,
      "outputs": []
    },
    {
      "cell_type": "code",
      "source": [
        "folders"
      ],
      "metadata": {
        "colab": {
          "base_uri": "https://localhost:8080/"
        },
        "id": "WUT8T6EU2fq2",
        "outputId": "9420c526-fd76-4e67-c9e4-5f15887beef5"
      },
      "execution_count": 27,
      "outputs": [
        {
          "output_type": "execute_result",
          "data": {
            "text/plain": [
              "['Flowers/train/daisy',\n",
              " 'Flowers/train/tulip',\n",
              " 'Flowers/train/dandelion',\n",
              " 'Flowers/train/rose',\n",
              " 'Flowers/train/sunflower']"
            ]
          },
          "metadata": {},
          "execution_count": 27
        }
      ]
    },
    {
      "cell_type": "code",
      "source": [
        "len(folders)"
      ],
      "metadata": {
        "colab": {
          "base_uri": "https://localhost:8080/"
        },
        "id": "3rtQs0uD23ON",
        "outputId": "9a2f6391-a13f-47f4-9548-dfe23b0a4258"
      },
      "execution_count": 28,
      "outputs": [
        {
          "output_type": "execute_result",
          "data": {
            "text/plain": [
              "5"
            ]
          },
          "metadata": {},
          "execution_count": 28
        }
      ]
    },
    {
      "cell_type": "code",
      "source": [
        "# Creating a sequential model and adding VGG16, flattening model\n",
        "\n",
        "model = Sequential()\n",
        "model.add(vgg16)\n",
        "model.add(Flatten())\n",
        "model.add(Dense(256,activation='relu'))\n",
        "model.add(Dense(5,activation='softmax'))"
      ],
      "metadata": {
        "id": "gT_WIwVA27lT"
      },
      "execution_count": 29,
      "outputs": []
    },
    {
      "cell_type": "code",
      "source": [
        "# view the structure of the model\n",
        "model.summary()"
      ],
      "metadata": {
        "colab": {
          "base_uri": "https://localhost:8080/"
        },
        "id": "dTacAoyS3MpP",
        "outputId": "cf757b23-9c68-4a10-dec1-99e0934706cc"
      },
      "execution_count": 30,
      "outputs": [
        {
          "output_type": "stream",
          "name": "stdout",
          "text": [
            "Model: \"sequential\"\n",
            "_________________________________________________________________\n",
            " Layer (type)                Output Shape              Param #   \n",
            "=================================================================\n",
            " vgg16 (Functional)          (None, 7, 7, 512)         14714688  \n",
            "                                                                 \n",
            " flatten (Flatten)           (None, 25088)             0         \n",
            "                                                                 \n",
            " dense (Dense)               (None, 256)               6422784   \n",
            "                                                                 \n",
            " dense_1 (Dense)             (None, 5)                 1285      \n",
            "                                                                 \n",
            "=================================================================\n",
            "Total params: 21,138,757\n",
            "Trainable params: 6,424,069\n",
            "Non-trainable params: 14,714,688\n",
            "_________________________________________________________________\n"
          ]
        }
      ]
    },
    {
      "cell_type": "code",
      "source": [
        "# Compile the model with below mentioned loss/cost and optimization method to use\n",
        "\n",
        "model.compile(\n",
        "  loss='categorical_crossentropy',\n",
        "  optimizer='adam',\n",
        "  metrics=['accuracy']\n",
        ")\n"
      ],
      "metadata": {
        "id": "Hd-T59ts33zv"
      },
      "execution_count": 32,
      "outputs": []
    },
    {
      "cell_type": "code",
      "source": [
        "# Use the Image Data Generator to import the images from the dataset\n",
        "\n",
        "from tensorflow.keras.preprocessing.image import ImageDataGenerator\n",
        "\n",
        "train_datagen = ImageDataGenerator(rescale = 1./255,\n",
        "                                   shear_range = 0.2,\n",
        "                                   zoom_range = 0.2,\n",
        "                                   horizontal_flip = True)\n",
        "\n",
        "test_datagen = ImageDataGenerator(rescale = 1./255)"
      ],
      "metadata": {
        "id": "bEeGp3A74BJp"
      },
      "execution_count": 34,
      "outputs": []
    },
    {
      "cell_type": "code",
      "source": [
        "test_datagen"
      ],
      "metadata": {
        "colab": {
          "base_uri": "https://localhost:8080/"
        },
        "id": "bQKEEQtO7Q3Y",
        "outputId": "42957abf-1638-4c6f-addd-46bda2427cb7"
      },
      "execution_count": 36,
      "outputs": [
        {
          "output_type": "execute_result",
          "data": {
            "text/plain": [
              "<keras.preprocessing.image.ImageDataGenerator at 0x7f0690293be0>"
            ]
          },
          "metadata": {},
          "execution_count": 36
        }
      ]
    },
    {
      "cell_type": "code",
      "source": [
        "# Make sure we provide the same target size as initialied for the image size\n",
        "training_set = train_datagen.flow_from_directory('Flowers/train',\n",
        "                                                 target_size = (224, 224),\n",
        "                                                 batch_size = 32,\n",
        "                                                 class_mode = 'categorical')"
      ],
      "metadata": {
        "colab": {
          "base_uri": "https://localhost:8080/"
        },
        "id": "nmI-4-7M7W3h",
        "outputId": "cc87b2da-05f6-46e6-cb8b-23fb36dfe4a6"
      },
      "execution_count": 38,
      "outputs": [
        {
          "output_type": "stream",
          "name": "stdout",
          "text": [
            "Found 600 images belonging to 5 classes.\n"
          ]
        }
      ]
    },
    {
      "cell_type": "code",
      "source": [
        "# Preparing Test dataset\n",
        "\n",
        "test_set = test_datagen.flow_from_directory('Flowers/validation',\n",
        "                                            target_size = (224, 224),\n",
        "                                            batch_size = 32,\n",
        "                                            class_mode = 'categorical')"
      ],
      "metadata": {
        "colab": {
          "base_uri": "https://localhost:8080/"
        },
        "id": "izZasxeo7q5u",
        "outputId": "bd31686f-8194-4486-dd40-c3d3df297a55"
      },
      "execution_count": 39,
      "outputs": [
        {
          "output_type": "stream",
          "name": "stdout",
          "text": [
            "Found 300 images belonging to 5 classes.\n"
          ]
        }
      ]
    },
    {
      "cell_type": "code",
      "source": [
        "# fit the model\n",
        "# Run the cell. It will take some time to execute\n",
        "\n",
        "r = model.fit(\n",
        "  training_set,\n",
        "  validation_data=test_set,\n",
        "  epochs=10,\n",
        "  steps_per_epoch=len(training_set),\n",
        "  validation_steps=len(test_set)\n",
        ")"
      ],
      "metadata": {
        "colab": {
          "base_uri": "https://localhost:8080/"
        },
        "id": "WnWJ1TIz7xUA",
        "outputId": "512af6c0-5d16-4e0f-c07f-961d72cc6af3"
      },
      "execution_count": 40,
      "outputs": [
        {
          "output_type": "stream",
          "name": "stdout",
          "text": [
            "Epoch 1/10\n",
            "19/19 [==============================] - 406s 22s/step - loss: 3.4316 - accuracy: 0.3650 - val_loss: 1.0047 - val_accuracy: 0.6200\n",
            "Epoch 2/10\n",
            "19/19 [==============================] - 12s 613ms/step - loss: 0.6823 - accuracy: 0.7500 - val_loss: 1.0054 - val_accuracy: 0.7033\n",
            "Epoch 3/10\n",
            "19/19 [==============================] - 11s 566ms/step - loss: 0.4798 - accuracy: 0.8400 - val_loss: 0.8555 - val_accuracy: 0.7400\n",
            "Epoch 4/10\n",
            "19/19 [==============================] - 12s 618ms/step - loss: 0.3475 - accuracy: 0.8850 - val_loss: 0.8631 - val_accuracy: 0.7333\n",
            "Epoch 5/10\n",
            "19/19 [==============================] - 14s 717ms/step - loss: 0.3127 - accuracy: 0.8850 - val_loss: 0.8596 - val_accuracy: 0.7067\n",
            "Epoch 6/10\n",
            "19/19 [==============================] - 12s 617ms/step - loss: 0.2439 - accuracy: 0.9250 - val_loss: 0.7414 - val_accuracy: 0.7567\n",
            "Epoch 7/10\n",
            "19/19 [==============================] - 12s 609ms/step - loss: 0.1547 - accuracy: 0.9633 - val_loss: 0.7958 - val_accuracy: 0.7767\n",
            "Epoch 8/10\n",
            "19/19 [==============================] - 12s 640ms/step - loss: 0.1423 - accuracy: 0.9633 - val_loss: 0.7648 - val_accuracy: 0.7667\n",
            "Epoch 9/10\n",
            "19/19 [==============================] - 11s 543ms/step - loss: 0.1227 - accuracy: 0.9717 - val_loss: 0.7460 - val_accuracy: 0.7767\n",
            "Epoch 10/10\n",
            "19/19 [==============================] - 11s 601ms/step - loss: 0.0912 - accuracy: 0.9833 - val_loss: 0.7675 - val_accuracy: 0.7767\n"
          ]
        }
      ]
    },
    {
      "cell_type": "code",
      "source": [
        "import matplotlib.pyplot as plt"
      ],
      "metadata": {
        "id": "_mU6LAOM75sT"
      },
      "execution_count": 41,
      "outputs": []
    },
    {
      "cell_type": "code",
      "source": [
        "# plot the loss\n",
        "plt.plot(r.history['loss'], label='train loss')\n",
        "plt.plot(r.history['val_loss'], label='val loss')\n",
        "plt.legend()\n",
        "plt.show()\n",
        "plt.savefig('LossVal_loss')"
      ],
      "metadata": {
        "colab": {
          "base_uri": "https://localhost:8080/",
          "height": 282
        },
        "id": "2kjZ9o_h78Pw",
        "outputId": "af0ac0ab-f9df-4a14-ac6e-22ef332bbfdb"
      },
      "execution_count": 42,
      "outputs": [
        {
          "output_type": "display_data",
          "data": {
            "text/plain": [
              "<Figure size 432x288 with 1 Axes>"
            ],
            "image/png": "[encoded data removed]"
          },
          "metadata": {
            "needs_background": "light"
          }
        },
        {
          "output_type": "display_data",
          "data": {
            "text/plain": [
              "<Figure size 432x288 with 0 Axes>"
            ]
          },
          "metadata": {}
        }
      ]
    },
    {
      "cell_type": "code",
      "source": [
        "# plot the accuracy\n",
        "plt.plot(r.history['accuracy'], label='train acc')\n",
        "plt.plot(r.history['val_accuracy'], label='val acc')\n",
        "plt.legend()\n",
        "plt.show()\n",
        "plt.savefig('AccVal_acc')"
      ],
      "metadata": {
        "colab": {
          "base_uri": "https://localhost:8080/",
          "height": 282
        },
        "id": "_Pn11F787-Xk",
        "outputId": "6b4f7060-03d1-4226-b6f1-2685fb9b3129"
      },
      "execution_count": 43,
      "outputs": [
        {
          "output_type": "display_data",
          "data": {
            "text/plain": [
              "<Figure size 432x288 with 1 Axes>"
            ],
            "image/png": "[encoded data removed]"
          },
          "metadata": {
            "needs_background": "light"
          }
        },
        {
          "output_type": "display_data",
          "data": {
            "text/plain": [
              "<Figure size 432x288 with 0 Axes>"
            ]
          },
          "metadata": {}
        }
      ]
    },
    {
      "cell_type": "code",
      "source": [
        "# save model as a h5 file\n",
        "model.save('model_vgg16.h5')"
      ],
      "metadata": {
        "id": "ChBWYrv68CxV"
      },
      "execution_count": 44,
      "outputs": []
    },
    {
      "cell_type": "code",
      "source": [
        "# Predicting the model \n",
        "\n",
        "y_pred = model.predict(test_set)"
      ],
      "metadata": {
        "colab": {
          "base_uri": "https://localhost:8080/"
        },
        "id": "7f2hENTF8J8k",
        "outputId": "d44147b9-4413-4807-cb26-ab841ec95ae8"
      },
      "execution_count": 45,
      "outputs": [
        {
          "output_type": "stream",
          "name": "stdout",
          "text": [
            "10/10 [==============================] - 3s 247ms/step\n"
          ]
        }
      ]
    },
    {
      "cell_type": "code",
      "source": [
        "# printing y_predicted values \n",
        "y_pred"
      ],
      "metadata": {
        "colab": {
          "base_uri": "https://localhost:8080/"
        },
        "id": "PPlYThql8Qmb",
        "outputId": "f9623d27-2930-490d-d35b-b2d6838eca91"
      },
      "execution_count": 46,
      "outputs": [
        {
          "output_type": "execute_result",
          "data": {
            "text/plain": [
              "array([[1.02322735e-02, 1.98408397e-05, 9.87761855e-01, 1.80227275e-03,\n",
              "        1.83844168e-04],\n",
              "       [1.33558624e-05, 1.29127400e-07, 9.74349439e-01, 1.99162299e-04,\n",
              "        2.54378896e-02],\n",
              "       [9.45356429e-01, 5.28555736e-02, 1.21987341e-07, 1.78711931e-03,\n",
              "        8.07692800e-07],\n",
              "       ...,\n",
              "       [7.59598892e-03, 5.06932940e-03, 6.88713133e-01, 6.76231633e-04,\n",
              "        2.97945291e-01],\n",
              "       [1.90252975e-01, 1.42804211e-05, 4.53510731e-01, 1.29078887e-03,\n",
              "        3.54931176e-01],\n",
              "       [1.61894504e-02, 4.35079710e-05, 9.57537532e-01, 2.16701943e-02,\n",
              "        4.55925334e-03]], dtype=float32)"
            ]
          },
          "metadata": {},
          "execution_count": 46
        }
      ]
    },
    {
      "cell_type": "code",
      "source": [
        "import numpy as np\n",
        "y_pred = np.argmax(y_pred, axis=1)"
      ],
      "metadata": {
        "id": "Any756Sm8WNt"
      },
      "execution_count": 47,
      "outputs": []
    },
    {
      "cell_type": "code",
      "source": [
        "y_pred"
      ],
      "metadata": {
        "colab": {
          "base_uri": "https://localhost:8080/"
        },
        "id": "r8hjldUb8dYB",
        "outputId": "2f97f14b-12bd-4107-983c-11f8229bb888"
      },
      "execution_count": 48,
      "outputs": [
        {
          "output_type": "execute_result",
          "data": {
            "text/plain": [
              "array([2, 2, 0, 0, 1, 0, 2, 3, 0, 2, 2, 4, 0, 4, 2, 4, 4, 2, 4, 2, 1, 1,\n",
              "       2, 0, 4, 1, 1, 0, 4, 2, 3, 2, 4, 4, 3, 2, 2, 4, 0, 3, 4, 1, 2, 0,\n",
              "       2, 0, 1, 4, 4, 0, 0, 4, 2, 4, 3, 2, 4, 1, 0, 4, 2, 4, 4, 0, 1, 2,\n",
              "       2, 0, 2, 0, 0, 0, 2, 2, 2, 1, 4, 4, 2, 2, 4, 2, 1, 4, 4, 2, 3, 2,\n",
              "       4, 3, 4, 3, 0, 4, 2, 4, 3, 3, 2, 4, 0, 2, 1, 3, 0, 2, 1, 0, 4, 3,\n",
              "       0, 3, 3, 3, 1, 0, 0, 2, 0, 0, 1, 0, 2, 0, 0, 4, 4, 1, 3, 1, 2, 1,\n",
              "       3, 4, 1, 0, 3, 0, 3, 4, 2, 1, 3, 4, 2, 2, 0, 0, 2, 1, 3, 2, 2, 2,\n",
              "       2, 0, 4, 2, 2, 2, 2, 4, 3, 3, 1, 3, 3, 4, 3, 3, 3, 0, 1, 3, 2, 1,\n",
              "       4, 1, 3, 2, 4, 0, 1, 3, 0, 0, 0, 3, 0, 0, 2, 3, 1, 2, 2, 0, 1, 1,\n",
              "       3, 0, 3, 2, 0, 4, 3, 4, 4, 0, 2, 0, 2, 2, 1, 0, 0, 1, 2, 0, 3, 0,\n",
              "       0, 2, 2, 4, 1, 4, 1, 2, 3, 2, 0, 2, 0, 1, 4, 4, 4, 2, 4, 2, 0, 0,\n",
              "       3, 2, 1, 1, 0, 4, 2, 1, 1, 0, 2, 0, 0, 1, 2, 3, 3, 4, 2, 4, 2, 4,\n",
              "       0, 1, 1, 3, 4, 2, 3, 2, 1, 3, 1, 0, 3, 4, 2, 1, 3, 3, 1, 1, 4, 0,\n",
              "       2, 2, 4, 1, 0, 0, 4, 2, 2, 2, 2, 2, 2, 2])"
            ]
          },
          "metadata": {},
          "execution_count": 48
        }
      ]
    },
    {
      "cell_type": "code",
      "source": [
        "from tensorflow.keras.models import load_model\n",
        "from tensorflow.keras.preprocessing import image"
      ],
      "metadata": {
        "id": "jLtbiFYm8fss"
      },
      "execution_count": 49,
      "outputs": []
    },
    {
      "cell_type": "code",
      "source": [
        "# Load the model which as saved earlier\n",
        "\n",
        "from tensorflow.keras.models import load_model\n",
        "model=load_model('model_vgg16.h5')"
      ],
      "metadata": {
        "id": "BOzwkXx58lAN"
      },
      "execution_count": 50,
      "outputs": []
    },
    {
      "cell_type": "code",
      "source": [
        "# Loading a test image and storing it in image\n",
        "Z = plt.imread('tulip.jpg')\n",
        "plt.imshow(Z)"
      ],
      "metadata": {
        "colab": {
          "base_uri": "https://localhost:8080/",
          "height": 286
        },
        "id": "IJlKeV0V9MI7",
        "outputId": "0e799395-e966-4705-cd27-a1038234b35f"
      },
      "execution_count": 55,
      "outputs": [
        {
          "output_type": "execute_result",
          "data": {
            "text/plain": [
              "<matplotlib.image.AxesImage at 0x7f0610995c70>"
            ]
          },
          "metadata": {},
          "execution_count": 55
        },
        {
          "output_type": "display_data",
          "data": {
            "text/plain": [
              "<Figure size 432x288 with 1 Axes>"
            ],
            "image/png": "[encoded data removed]"
          },
          "metadata": {
            "needs_background": "light"
          }
        }
      ]
    },
    {
      "cell_type": "code",
      "source": [
        "# Loading a test image and storing it in image\n",
        "\n",
        "img=image.load_img('tulip.jpg',target_size=(224,224))\n",
        "\n",
        "x=image.img_to_array(img)\n",
        "x.shape\n",
        "x=x/255"
      ],
      "metadata": {
        "id": "_5-f-lHB8st2"
      },
      "execution_count": 56,
      "outputs": []
    },
    {
      "cell_type": "code",
      "source": [
        "from keras.applications.vgg16 import preprocess_input"
      ],
      "metadata": {
        "id": "bI15wpD99a9z"
      },
      "execution_count": 53,
      "outputs": []
    },
    {
      "cell_type": "code",
      "source": [
        "import numpy as np\n",
        "x=np.expand_dims(x,axis=0)\n",
        "img_data=preprocess_input(x)\n",
        "img_data.shape"
      ],
      "metadata": {
        "colab": {
          "base_uri": "https://localhost:8080/"
        },
        "id": "J74SY2aQ9dRI",
        "outputId": "6cf60293-800a-4299-a622-1c104346b90c"
      },
      "execution_count": 57,
      "outputs": [
        {
          "output_type": "execute_result",
          "data": {
            "text/plain": [
              "(1, 224, 224, 3)"
            ]
          },
          "metadata": {},
          "execution_count": 57
        }
      ]
    },
    {
      "cell_type": "code",
      "source": [
        "# Predicting the image data and storing it in variable a\n",
        "\n",
        "model.predict(img_data)\n",
        "a=np.argmax(model.predict(img_data), axis=1)"
      ],
      "metadata": {
        "colab": {
          "base_uri": "https://localhost:8080/"
        },
        "id": "GlpsxTME9gR5",
        "outputId": "6b912bbe-7188-4275-f25b-03cdd618690c"
      },
      "execution_count": 58,
      "outputs": [
        {
          "output_type": "stream",
          "name": "stdout",
          "text": [
            "1/1 [==============================] - 1s 838ms/step\n",
            "1/1 [==============================] - 0s 23ms/step\n"
          ]
        }
      ]
    },
    {
      "cell_type": "code",
      "source": [
        "flower_name = ['dandelion',\n",
        " 'sunflower',\n",
        " 'tulip',\n",
        " 'daisy',\n",
        " 'rose']"
      ],
      "metadata": {
        "id": "D768EG6Z9xFm"
      },
      "execution_count": 59,
      "outputs": []
    },
    {
      "cell_type": "code",
      "source": [
        "flower_name[a[0]]"
      ],
      "metadata": {
        "colab": {
          "base_uri": "https://localhost:8080/",
          "height": 35
        },
        "id": "FFjKvqQQ9y7N",
        "outputId": "5ffb601f-6609-4925-f2ee-07c6272d027b"
      },
      "execution_count": 60,
      "outputs": [
        {
          "output_type": "execute_result",
          "data": {
            "text/plain": [
              "'dandelion'"
            ],
            "application/vnd.google.colaboratory.intrinsic+json": {
              "type": "string"
            }
          },
          "metadata": {},
          "execution_count": 60
        }
      ]
    }
  ]
}